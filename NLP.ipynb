{
  "cells": [
    {
      "cell_type": "markdown",
      "metadata": {
        "id": "view-in-github",
        "colab_type": "text"
      },
      "source": [
        "<a href=\"https://colab.research.google.com/github/Sanazdalvandi/Colab/blob/main/NLP.ipynb\" target=\"_parent\"><img src=\"https://colab.research.google.com/assets/colab-badge.svg\" alt=\"Open In Colab\"/></a>"
      ]
    },
    {
      "cell_type": "code",
      "execution_count": null,
      "metadata": {
        "colab": {
          "base_uri": "https://localhost:8080/"
        },
        "id": "Ei-uvHv-ZXxI",
        "outputId": "fe126146-a7bb-47fe-80c7-e91a5ec9360c"
      },
      "outputs": [
        {
          "name": "stdout",
          "output_type": "stream",
          "text": [
            "Collecting wfdb\n",
            "  Downloading wfdb-4.1.2-py3-none-any.whl (159 kB)\n",
            "\u001b[2K     \u001b[90m━━━━━━━━━━━━━━━━━━━━━━━━━━━━━━━━━━━━━━━━\u001b[0m \u001b[32m160.0/160.0 kB\u001b[0m \u001b[31m3.0 MB/s\u001b[0m eta \u001b[36m0:00:00\u001b[0m\n",
            "\u001b[?25hRequirement already satisfied: SoundFile>=0.10.0 in /usr/local/lib/python3.10/dist-packages (from wfdb) (0.12.1)\n",
            "Requirement already satisfied: matplotlib>=3.2.2 in /usr/local/lib/python3.10/dist-packages (from wfdb) (3.7.1)\n",
            "Requirement already satisfied: numpy>=1.10.1 in /usr/local/lib/python3.10/dist-packages (from wfdb) (1.23.5)\n",
            "Requirement already satisfied: pandas>=1.3.0 in /usr/local/lib/python3.10/dist-packages (from wfdb) (1.5.3)\n",
            "Requirement already satisfied: requests>=2.8.1 in /usr/local/lib/python3.10/dist-packages (from wfdb) (2.31.0)\n",
            "Requirement already satisfied: scipy>=1.0.0 in /usr/local/lib/python3.10/dist-packages (from wfdb) (1.11.4)\n",
            "Requirement already satisfied: contourpy>=1.0.1 in /usr/local/lib/python3.10/dist-packages (from matplotlib>=3.2.2->wfdb) (1.2.0)\n",
            "Requirement already satisfied: cycler>=0.10 in /usr/local/lib/python3.10/dist-packages (from matplotlib>=3.2.2->wfdb) (0.12.1)\n",
            "Requirement already satisfied: fonttools>=4.22.0 in /usr/local/lib/python3.10/dist-packages (from matplotlib>=3.2.2->wfdb) (4.47.0)\n",
            "Requirement already satisfied: kiwisolver>=1.0.1 in /usr/local/lib/python3.10/dist-packages (from matplotlib>=3.2.2->wfdb) (1.4.5)\n",
            "Requirement already satisfied: packaging>=20.0 in /usr/local/lib/python3.10/dist-packages (from matplotlib>=3.2.2->wfdb) (23.2)\n",
            "Requirement already satisfied: pillow>=6.2.0 in /usr/local/lib/python3.10/dist-packages (from matplotlib>=3.2.2->wfdb) (9.4.0)\n",
            "Requirement already satisfied: pyparsing>=2.3.1 in /usr/local/lib/python3.10/dist-packages (from matplotlib>=3.2.2->wfdb) (3.1.1)\n",
            "Requirement already satisfied: python-dateutil>=2.7 in /usr/local/lib/python3.10/dist-packages (from matplotlib>=3.2.2->wfdb) (2.8.2)\n",
            "Requirement already satisfied: pytz>=2020.1 in /usr/local/lib/python3.10/dist-packages (from pandas>=1.3.0->wfdb) (2023.3.post1)\n",
            "Requirement already satisfied: charset-normalizer<4,>=2 in /usr/local/lib/python3.10/dist-packages (from requests>=2.8.1->wfdb) (3.3.2)\n",
            "Requirement already satisfied: idna<4,>=2.5 in /usr/local/lib/python3.10/dist-packages (from requests>=2.8.1->wfdb) (3.6)\n",
            "Requirement already satisfied: urllib3<3,>=1.21.1 in /usr/local/lib/python3.10/dist-packages (from requests>=2.8.1->wfdb) (2.0.7)\n",
            "Requirement already satisfied: certifi>=2017.4.17 in /usr/local/lib/python3.10/dist-packages (from requests>=2.8.1->wfdb) (2023.11.17)\n",
            "Requirement already satisfied: cffi>=1.0 in /usr/local/lib/python3.10/dist-packages (from SoundFile>=0.10.0->wfdb) (1.16.0)\n",
            "Requirement already satisfied: pycparser in /usr/local/lib/python3.10/dist-packages (from cffi>=1.0->SoundFile>=0.10.0->wfdb) (2.21)\n",
            "Requirement already satisfied: six>=1.5 in /usr/local/lib/python3.10/dist-packages (from python-dateutil>=2.7->matplotlib>=3.2.2->wfdb) (1.16.0)\n",
            "Installing collected packages: wfdb\n",
            "Successfully installed wfdb-4.1.2\n"
          ]
        }
      ],
      "source": [
        "import keras\n",
        "!pip install wfdb\n",
        "import librosa as lr\n",
        "import pandas as pd\n",
        "import numpy as np\n",
        "import matplotlib.pyplot as plt\n",
        "import matplotlib.image as mpimg\n",
        "import os.path\n",
        "import pathlib\n",
        "from pathlib import Path\n",
        "from sklearn.model_selection import train_test_split\n",
        "from sklearn.preprocessing import LabelEncoder,StandardScaler\n",
        "import shutil\n",
        "import cv2\n",
        "import wave\n",
        "import struct\n",
        "import pywt\n",
        "from scipy.signal import find_peaks_cwt\n",
        "from keras.layers import Dense,Dropout,Activation,BatchNormalization,Flatten,Conv2D,MaxPooling2D\n",
        "from keras.callbacks import Callback\n",
        "from keras.models import load_model,Sequential\n",
        "from keras import losses\n",
        "from warnings import filterwarnings\n",
        "filterwarnings(\"ignore\",category=DeprecationWarning)\n",
        "filterwarnings(\"ignore\", category=FutureWarning)\n",
        "filterwarnings(\"ignore\", category=UserWarning)\n",
        "import datetime\n",
        "from scipy.io import wavfile\n",
        "import sys\n",
        "from scipy.signal import butter, filtfilt\n",
        "import librosa, IPython.display, time, pywt\n",
        "import librosa.display\n",
        "from sklearn.preprocessing import scale\n",
        "from sklearn.neighbors import KNeighborsClassifier\n",
        "from sklearn.metrics import accuracy_score, precision_recall_fscore_support\n",
        "from sklearn.metrics import confusion_matrix, classification_report\n",
        "from keras.utils import to_categorical, plot_model\n",
        "from glob import glob\n",
        "from scipy import signal\n",
        "import os\n",
        "from scipy.signal import find_peaks\n",
        "import librosa as lr\n",
        "import numpy as np\n",
        "import matplotlib.pyplot as plt\n",
        "from sklearn.preprocessing import LabelEncoder\n",
        "import cv2\n",
        "import tensorflow as tf\n",
        "from keras.callbacks import ModelCheckpoint, TensorBoard\n",
        "from keras.models import Sequential\n",
        "from keras.layers import Dense, Dropout, Activation, BatchNormalization, Flatten, Conv2D, MaxPooling2D\n",
        "from keras import losses\n",
        "import os\n",
        "import os.path\n",
        "import glob\n",
        "from tensorflow.keras.preprocessing.text import Tokenizer\n"
      ]
    },
    {
      "cell_type": "code",
      "execution_count": null,
      "metadata": {
        "colab": {
          "base_uri": "https://localhost:8080/"
        },
        "id": "DhBN06oZZfBJ",
        "outputId": "75af0348-f226-4cf6-f224-32bc559cdfa7"
      },
      "outputs": [
        {
          "name": "stdout",
          "output_type": "stream",
          "text": [
            "['I like mybrothet', 'Go home!', 'Do you like my brother?']\n"
          ]
        }
      ],
      "source": [
        "text=\"I like mybrothet.Go home!.Do you like my brother?\"\n",
        "sentences=text.split('.')\n",
        "print(sentences)\n",
        "tokenizer = Tokenizer(num_words=100, oov_token='<oov>')\n"
      ]
    },
    {
      "cell_type": "code",
      "execution_count": null,
      "metadata": {
        "colab": {
          "base_uri": "https://localhost:8080/"
        },
        "id": "M86cBSZqnhDU",
        "outputId": "fa69fe4c-54a8-4e7e-c669-90928752738c"
      },
      "outputs": [
        {
          "name": "stdout",
          "output_type": "stream",
          "text": [
            "{'<oov>': 1, 'like': 2, 'i': 3, 'mybrothet': 4, 'go': 5, 'home': 6, 'do': 7, 'you': 8, 'my': 9, 'brother': 10}\n"
          ]
        }
      ],
      "source": [
        "tokenizer.fit_on_texts(sentences)\n",
        "print(tokenizer.word_index)\n"
      ]
    },
    {
      "cell_type": "code",
      "execution_count": null,
      "metadata": {
        "colab": {
          "base_uri": "https://localhost:8080/"
        },
        "id": "6FWK_w4yv9og",
        "outputId": "6c4e66b1-f70b-40ae-b40a-cf04a44cf98f"
      },
      "outputs": [
        {
          "name": "stdout",
          "output_type": "stream",
          "text": [
            "['I like mybrothet', 'Go home!', 'Do you like my brother?']\n"
          ]
        }
      ],
      "source": [
        "sequences=tokenizer.texts_to_sequences(sentences)\n",
        "print(sentences)\n"
      ]
    },
    {
      "cell_type": "code",
      "execution_count": null,
      "metadata": {
        "colab": {
          "base_uri": "https://localhost:8080/"
        },
        "id": "R4s6ePZB0H6S",
        "outputId": "6e0d2dc6-31da-4a18-9469-68fa53611646"
      },
      "outputs": [
        {
          "name": "stdout",
          "output_type": "stream",
          "text": [
            "[[3, 2, 9, 1]]\n"
          ]
        }
      ],
      "source": [
        "new_sentences=[\"I like my sister\"]\n",
        "new_sentences=tokenizer.texts_to_sequences(new_sentences)\n",
        "print(new_sentences)\n"
      ]
    },
    {
      "cell_type": "code",
      "execution_count": null,
      "metadata": {
        "colab": {
          "base_uri": "https://localhost:8080/"
        },
        "id": "zDKdxlAe0b4Z",
        "outputId": "f859ab6b-fc3f-4e23-9dbc-dd11a4d5b664"
      },
      "outputs": [
        {
          "name": "stdout",
          "output_type": "stream",
          "text": [
            "[[ 0  0  3  2  4]\n",
            " [ 0  0  0  5  6]\n",
            " [ 7  8  2  9 10]]\n"
          ]
        }
      ],
      "source": [
        "from tensorflow.keras.preprocessing.sequence import pad_sequences\n",
        "padded_sequences=pad_sequences(sequences)\n",
        "print(padded_sequences)\n",
        "\n"
      ]
    },
    {
      "cell_type": "code",
      "execution_count": null,
      "metadata": {
        "id": "AoZsuW0O1Dxr"
      },
      "outputs": [],
      "source": [
        "from tensorflow.keras.layers import TextVectorization\n"
      ]
    },
    {
      "cell_type": "code",
      "execution_count": null,
      "metadata": {
        "colab": {
          "base_uri": "https://localhost:8080/"
        },
        "id": "8E4_mYdW8c2I",
        "outputId": "47244aa7-d385-463f-f96a-0528f5d5cf77"
      },
      "outputs": [
        {
          "name": "stdout",
          "output_type": "stream",
          "text": [
            "['', '[UNK]', 'like', 'you', 'mybrothet', 'my', 'i', 'home', 'go', 'do', 'brother']\n"
          ]
        }
      ],
      "source": [
        "text_vectorization=TextVectorization()\n",
        "text_vectorization.adapt(sentences)\n",
        "print(text_vectorization.get_vocabulary())\n"
      ]
    },
    {
      "cell_type": "code",
      "execution_count": null,
      "metadata": {
        "colab": {
          "base_uri": "https://localhost:8080/"
        },
        "id": "BXciREPm8622",
        "outputId": "71c3c89b-4673-45d6-8984-f84164ac9a1b"
      },
      "outputs": [
        {
          "name": "stdout",
          "output_type": "stream",
          "text": [
            "tf.Tensor(\n",
            "[[ 6  2  4  0  0]\n",
            " [ 8  7  0  0  0]\n",
            " [ 9  3  2  5 10]], shape=(3, 5), dtype=int64)\n"
          ]
        }
      ],
      "source": [
        "encoded_sequences=text_vectorization(sentences)\n",
        "print(encoded_sequences)\n"
      ]
    },
    {
      "cell_type": "code",
      "execution_count": null,
      "metadata": {
        "colab": {
          "base_uri": "https://localhost:8080/"
        },
        "id": "l9IWQ2as9STN",
        "outputId": "5cfe2fca-8e3b-4e83-90c8-30b5c454b201"
      },
      "outputs": [
        {
          "name": "stdout",
          "output_type": "stream",
          "text": [
            "--2024-01-05 11:21:03--  https://storage.googleapis.com/learning-datasets/sarcasm.json\n",
            "Resolving storage.googleapis.com (storage.googleapis.com)... 172.217.0.91, 172.217.12.27, 172.217.15.251, ...\n",
            "Connecting to storage.googleapis.com (storage.googleapis.com)|172.217.0.91|:443... connected.\n",
            "HTTP request sent, awaiting response... 200 OK\n",
            "Length: 5643545 (5.4M) [application/json]\n",
            "Saving to: ‘sarcasm.json’\n",
            "\n",
            "sarcasm.json        100%[===================>]   5.38M  14.8MB/s    in 0.4s    \n",
            "\n",
            "2024-01-05 11:21:04 (14.8 MB/s) - ‘sarcasm.json’ saved [5643545/5643545]\n",
            "\n"
          ]
        }
      ],
      "source": [
        "!wget --no-check-certificate \\\n",
        "    https://storage.googleapis.com/learning-datasets/sarcasm.json\n",
        "\n"
      ]
    },
    {
      "cell_type": "code",
      "execution_count": null,
      "metadata": {
        "colab": {
          "base_uri": "https://localhost:8080/",
          "height": 206
        },
        "id": "GZBf-gh8AU4-",
        "outputId": "1e0965bb-2e29-4377-b600-06d9ed3721d6"
      },
      "outputs": [
        {
          "data": {
            "text/html": [
              "\n",
              "  <div id=\"df-aecc59e0-8718-4cb1-86b7-a95e905181f8\" class=\"colab-df-container\">\n",
              "    <div>\n",
              "<style scoped>\n",
              "    .dataframe tbody tr th:only-of-type {\n",
              "        vertical-align: middle;\n",
              "    }\n",
              "\n",
              "    .dataframe tbody tr th {\n",
              "        vertical-align: top;\n",
              "    }\n",
              "\n",
              "    .dataframe thead th {\n",
              "        text-align: right;\n",
              "    }\n",
              "</style>\n",
              "<table border=\"1\" class=\"dataframe\">\n",
              "  <thead>\n",
              "    <tr style=\"text-align: right;\">\n",
              "      <th></th>\n",
              "      <th>article_link</th>\n",
              "      <th>headline</th>\n",
              "      <th>is_sarcastic</th>\n",
              "    </tr>\n",
              "  </thead>\n",
              "  <tbody>\n",
              "    <tr>\n",
              "      <th>0</th>\n",
              "      <td>https://www.huffingtonpost.com/entry/versace-b...</td>\n",
              "      <td>former versace store clerk sues over secret 'b...</td>\n",
              "      <td>0</td>\n",
              "    </tr>\n",
              "    <tr>\n",
              "      <th>1</th>\n",
              "      <td>https://www.huffingtonpost.com/entry/roseanne-...</td>\n",
              "      <td>the 'roseanne' revival catches up to our thorn...</td>\n",
              "      <td>0</td>\n",
              "    </tr>\n",
              "    <tr>\n",
              "      <th>2</th>\n",
              "      <td>https://local.theonion.com/mom-starting-to-fea...</td>\n",
              "      <td>mom starting to fear son's web series closest ...</td>\n",
              "      <td>1</td>\n",
              "    </tr>\n",
              "    <tr>\n",
              "      <th>3</th>\n",
              "      <td>https://politics.theonion.com/boehner-just-wan...</td>\n",
              "      <td>boehner just wants wife to listen, not come up...</td>\n",
              "      <td>1</td>\n",
              "    </tr>\n",
              "    <tr>\n",
              "      <th>4</th>\n",
              "      <td>https://www.huffingtonpost.com/entry/jk-rowlin...</td>\n",
              "      <td>j.k. rowling wishes snape happy birthday in th...</td>\n",
              "      <td>0</td>\n",
              "    </tr>\n",
              "  </tbody>\n",
              "</table>\n",
              "</div>\n",
              "    <div class=\"colab-df-buttons\">\n",
              "\n",
              "  <div class=\"colab-df-container\">\n",
              "    <button class=\"colab-df-convert\" onclick=\"convertToInteractive('df-aecc59e0-8718-4cb1-86b7-a95e905181f8')\"\n",
              "            title=\"Convert this dataframe to an interactive table.\"\n",
              "            style=\"display:none;\">\n",
              "\n",
              "  <svg xmlns=\"http://www.w3.org/2000/svg\" height=\"24px\" viewBox=\"0 -960 960 960\">\n",
              "    <path d=\"M120-120v-720h720v720H120Zm60-500h600v-160H180v160Zm220 220h160v-160H400v160Zm0 220h160v-160H400v160ZM180-400h160v-160H180v160Zm440 0h160v-160H620v160ZM180-180h160v-160H180v160Zm440 0h160v-160H620v160Z\"/>\n",
              "  </svg>\n",
              "    </button>\n",
              "\n",
              "  <style>\n",
              "    .colab-df-container {\n",
              "      display:flex;\n",
              "      gap: 12px;\n",
              "    }\n",
              "\n",
              "    .colab-df-convert {\n",
              "      background-color: #E8F0FE;\n",
              "      border: none;\n",
              "      border-radius: 50%;\n",
              "      cursor: pointer;\n",
              "      display: none;\n",
              "      fill: #1967D2;\n",
              "      height: 32px;\n",
              "      padding: 0 0 0 0;\n",
              "      width: 32px;\n",
              "    }\n",
              "\n",
              "    .colab-df-convert:hover {\n",
              "      background-color: #E2EBFA;\n",
              "      box-shadow: 0px 1px 2px rgba(60, 64, 67, 0.3), 0px 1px 3px 1px rgba(60, 64, 67, 0.15);\n",
              "      fill: #174EA6;\n",
              "    }\n",
              "\n",
              "    .colab-df-buttons div {\n",
              "      margin-bottom: 4px;\n",
              "    }\n",
              "\n",
              "    [theme=dark] .colab-df-convert {\n",
              "      background-color: #3B4455;\n",
              "      fill: #D2E3FC;\n",
              "    }\n",
              "\n",
              "    [theme=dark] .colab-df-convert:hover {\n",
              "      background-color: #434B5C;\n",
              "      box-shadow: 0px 1px 3px 1px rgba(0, 0, 0, 0.15);\n",
              "      filter: drop-shadow(0px 1px 2px rgba(0, 0, 0, 0.3));\n",
              "      fill: #FFFFFF;\n",
              "    }\n",
              "  </style>\n",
              "\n",
              "    <script>\n",
              "      const buttonEl =\n",
              "        document.querySelector('#df-aecc59e0-8718-4cb1-86b7-a95e905181f8 button.colab-df-convert');\n",
              "      buttonEl.style.display =\n",
              "        google.colab.kernel.accessAllowed ? 'block' : 'none';\n",
              "\n",
              "      async function convertToInteractive(key) {\n",
              "        const element = document.querySelector('#df-aecc59e0-8718-4cb1-86b7-a95e905181f8');\n",
              "        const dataTable =\n",
              "          await google.colab.kernel.invokeFunction('convertToInteractive',\n",
              "                                                    [key], {});\n",
              "        if (!dataTable) return;\n",
              "\n",
              "        const docLinkHtml = 'Like what you see? Visit the ' +\n",
              "          '<a target=\"_blank\" href=https://colab.research.google.com/notebooks/data_table.ipynb>data table notebook</a>'\n",
              "          + ' to learn more about interactive tables.';\n",
              "        element.innerHTML = '';\n",
              "        dataTable['output_type'] = 'display_data';\n",
              "        await google.colab.output.renderOutput(dataTable, element);\n",
              "        const docLink = document.createElement('div');\n",
              "        docLink.innerHTML = docLinkHtml;\n",
              "        element.appendChild(docLink);\n",
              "      }\n",
              "    </script>\n",
              "  </div>\n",
              "\n",
              "\n",
              "<div id=\"df-33700eb1-9dd8-4a8c-a0c4-da9c4d1ccb37\">\n",
              "  <button class=\"colab-df-quickchart\" onclick=\"quickchart('df-33700eb1-9dd8-4a8c-a0c4-da9c4d1ccb37')\"\n",
              "            title=\"Suggest charts\"\n",
              "            style=\"display:none;\">\n",
              "\n",
              "<svg xmlns=\"http://www.w3.org/2000/svg\" height=\"24px\"viewBox=\"0 0 24 24\"\n",
              "     width=\"24px\">\n",
              "    <g>\n",
              "        <path d=\"M19 3H5c-1.1 0-2 .9-2 2v14c0 1.1.9 2 2 2h14c1.1 0 2-.9 2-2V5c0-1.1-.9-2-2-2zM9 17H7v-7h2v7zm4 0h-2V7h2v10zm4 0h-2v-4h2v4z\"/>\n",
              "    </g>\n",
              "</svg>\n",
              "  </button>\n",
              "\n",
              "<style>\n",
              "  .colab-df-quickchart {\n",
              "      --bg-color: #E8F0FE;\n",
              "      --fill-color: #1967D2;\n",
              "      --hover-bg-color: #E2EBFA;\n",
              "      --hover-fill-color: #174EA6;\n",
              "      --disabled-fill-color: #AAA;\n",
              "      --disabled-bg-color: #DDD;\n",
              "  }\n",
              "\n",
              "  [theme=dark] .colab-df-quickchart {\n",
              "      --bg-color: #3B4455;\n",
              "      --fill-color: #D2E3FC;\n",
              "      --hover-bg-color: #434B5C;\n",
              "      --hover-fill-color: #FFFFFF;\n",
              "      --disabled-bg-color: #3B4455;\n",
              "      --disabled-fill-color: #666;\n",
              "  }\n",
              "\n",
              "  .colab-df-quickchart {\n",
              "    background-color: var(--bg-color);\n",
              "    border: none;\n",
              "    border-radius: 50%;\n",
              "    cursor: pointer;\n",
              "    display: none;\n",
              "    fill: var(--fill-color);\n",
              "    height: 32px;\n",
              "    padding: 0;\n",
              "    width: 32px;\n",
              "  }\n",
              "\n",
              "  .colab-df-quickchart:hover {\n",
              "    background-color: var(--hover-bg-color);\n",
              "    box-shadow: 0 1px 2px rgba(60, 64, 67, 0.3), 0 1px 3px 1px rgba(60, 64, 67, 0.15);\n",
              "    fill: var(--button-hover-fill-color);\n",
              "  }\n",
              "\n",
              "  .colab-df-quickchart-complete:disabled,\n",
              "  .colab-df-quickchart-complete:disabled:hover {\n",
              "    background-color: var(--disabled-bg-color);\n",
              "    fill: var(--disabled-fill-color);\n",
              "    box-shadow: none;\n",
              "  }\n",
              "\n",
              "  .colab-df-spinner {\n",
              "    border: 2px solid var(--fill-color);\n",
              "    border-color: transparent;\n",
              "    border-bottom-color: var(--fill-color);\n",
              "    animation:\n",
              "      spin 1s steps(1) infinite;\n",
              "  }\n",
              "\n",
              "  @keyframes spin {\n",
              "    0% {\n",
              "      border-color: transparent;\n",
              "      border-bottom-color: var(--fill-color);\n",
              "      border-left-color: var(--fill-color);\n",
              "    }\n",
              "    20% {\n",
              "      border-color: transparent;\n",
              "      border-left-color: var(--fill-color);\n",
              "      border-top-color: var(--fill-color);\n",
              "    }\n",
              "    30% {\n",
              "      border-color: transparent;\n",
              "      border-left-color: var(--fill-color);\n",
              "      border-top-color: var(--fill-color);\n",
              "      border-right-color: var(--fill-color);\n",
              "    }\n",
              "    40% {\n",
              "      border-color: transparent;\n",
              "      border-right-color: var(--fill-color);\n",
              "      border-top-color: var(--fill-color);\n",
              "    }\n",
              "    60% {\n",
              "      border-color: transparent;\n",
              "      border-right-color: var(--fill-color);\n",
              "    }\n",
              "    80% {\n",
              "      border-color: transparent;\n",
              "      border-right-color: var(--fill-color);\n",
              "      border-bottom-color: var(--fill-color);\n",
              "    }\n",
              "    90% {\n",
              "      border-color: transparent;\n",
              "      border-bottom-color: var(--fill-color);\n",
              "    }\n",
              "  }\n",
              "</style>\n",
              "\n",
              "  <script>\n",
              "    async function quickchart(key) {\n",
              "      const quickchartButtonEl =\n",
              "        document.querySelector('#' + key + ' button');\n",
              "      quickchartButtonEl.disabled = true;  // To prevent multiple clicks.\n",
              "      quickchartButtonEl.classList.add('colab-df-spinner');\n",
              "      try {\n",
              "        const charts = await google.colab.kernel.invokeFunction(\n",
              "            'suggestCharts', [key], {});\n",
              "      } catch (error) {\n",
              "        console.error('Error during call to suggestCharts:', error);\n",
              "      }\n",
              "      quickchartButtonEl.classList.remove('colab-df-spinner');\n",
              "      quickchartButtonEl.classList.add('colab-df-quickchart-complete');\n",
              "    }\n",
              "    (() => {\n",
              "      let quickchartButtonEl =\n",
              "        document.querySelector('#df-33700eb1-9dd8-4a8c-a0c4-da9c4d1ccb37 button');\n",
              "      quickchartButtonEl.style.display =\n",
              "        google.colab.kernel.accessAllowed ? 'block' : 'none';\n",
              "    })();\n",
              "  </script>\n",
              "</div>\n",
              "\n",
              "    </div>\n",
              "  </div>\n"
            ],
            "text/plain": [
              "                                        article_link  \\\n",
              "0  https://www.huffingtonpost.com/entry/versace-b...   \n",
              "1  https://www.huffingtonpost.com/entry/roseanne-...   \n",
              "2  https://local.theonion.com/mom-starting-to-fea...   \n",
              "3  https://politics.theonion.com/boehner-just-wan...   \n",
              "4  https://www.huffingtonpost.com/entry/jk-rowlin...   \n",
              "\n",
              "                                            headline  is_sarcastic  \n",
              "0  former versace store clerk sues over secret 'b...             0  \n",
              "1  the 'roseanne' revival catches up to our thorn...             0  \n",
              "2  mom starting to fear son's web series closest ...             1  \n",
              "3  boehner just wants wife to listen, not come up...             1  \n",
              "4  j.k. rowling wishes snape happy birthday in th...             0  "
            ]
          },
          "execution_count": 12,
          "metadata": {},
          "output_type": "execute_result"
        }
      ],
      "source": [
        "df=pd.read_json('sarcasm.json')\n",
        "df.head()\n"
      ]
    },
    {
      "cell_type": "code",
      "execution_count": null,
      "metadata": {
        "colab": {
          "base_uri": "https://localhost:8080/"
        },
        "id": "6mqZFaKgC7bF",
        "outputId": "619d8824-41cf-41bd-c721-e1c246183cb9"
      },
      "outputs": [
        {
          "data": {
            "text/plain": [
              "(26709, 3)"
            ]
          },
          "execution_count": 13,
          "metadata": {},
          "output_type": "execute_result"
        }
      ],
      "source": [
        "df.shape\n"
      ]
    },
    {
      "cell_type": "code",
      "execution_count": null,
      "metadata": {
        "id": "ETj4OLCwDAqM"
      },
      "outputs": [],
      "source": [
        "sentences=df['headline'].to_list()\n",
        "labels=df['is_sarcastic'].to_list()\n"
      ]
    },
    {
      "cell_type": "code",
      "execution_count": null,
      "metadata": {
        "colab": {
          "base_uri": "https://localhost:8080/"
        },
        "id": "FFXdle2mDV4U",
        "outputId": "012a4666-1d03-491c-f9af-ff99eb890a9b"
      },
      "outputs": [
        {
          "name": "stderr",
          "output_type": "stream",
          "text": [
            "[nltk_data] Downloading package stopwords to /root/nltk_data...\n",
            "[nltk_data]   Unzipping corpora/stopwords.zip.\n"
          ]
        },
        {
          "name": "stdout",
          "output_type": "stream",
          "text": [
            "{'s', 'nor', 'wouldn', 'was', \"aren't\", 'needn', \"hadn't\", 've', 'the', \"don't\", 'through', 'about', 'why', 'because', \"mightn't\", 'ours', 'an', 'me', 'is', 'whom', 'haven', 'before', 'but', 'while', 'at', \"won't\", 'should', 'just', 'll', 'into', 'hers', 'your', 'under', 'than', 'how', 'didn', \"hasn't\", \"mustn't\", \"weren't\", 'weren', 'for', 'again', 'doesn', 'most', 'will', \"doesn't\", 'above', \"shan't\", 'him', 'it', 'as', 'won', 'by', 'and', 'ma', 'those', 'out', 'are', 'further', 'not', 'over', 'am', 'his', 'on', \"wouldn't\", 'to', \"that'll\", 'were', 'their', 'o', 'itself', 'this', \"didn't\", 'until', 'which', 'during', 'too', 'below', 'its', 'that', 't', 'what', 're', \"you'll\", 'ain', 'here', 'down', 'there', \"should've\", 'mightn', 'herself', \"you've\", 'such', 'if', 'very', 'themselves', \"couldn't\", 'then', 'a', 'i', 'don', 'these', 'theirs', 'm', 'no', \"it's\", 'where', 'or', 'doing', 'other', 'be', 'off', 'hasn', 'had', 'you', \"wasn't\", 'has', 'did', 'her', 'can', 'we', 'do', 'after', 'few', 'with', \"shouldn't\", 'he', 'our', 'when', 'both', 'some', 'yourselves', 'myself', 'all', 'own', 'shouldn', 'my', \"haven't\", \"you'd\", 'wasn', 'isn', 'himself', \"needn't\", 'they', 'd', 'more', 'been', 'each', 'once', 'y', 'aren', \"isn't\", 'from', 'who', 'in', 'she', 'mustn', 'against', 'couldn', \"she's\", 'does', 'them', 'hadn', 'between', 'same', 'up', 'having', 'yourself', 'any', 'of', 'have', 'ourselves', 'being', 'yours', 'only', 'shan', 'now', 'so', \"you're\"}\n",
            "former versace store clerk sues over secret 'black code' for minority shoppers\n",
            "the 'roseanne' revival catches up to our thorny political mood, for better and worse\n",
            "5000\n",
            "<class 'tensorflow.python.framework.ops.EagerTensor'>\n",
            "(23000, 25)\n",
            "(3709, 25)\n"
          ]
        }
      ],
      "source": [
        "from tensorflow.keras.layers import TextVectorization\n",
        "import nltk\n",
        "from nltk.corpus import stopwords\n",
        "\n",
        "nltk.download('stopwords')\n",
        "sw = set(stopwords.words('english'))\n",
        "\n",
        "print(sw)\n",
        "\n",
        "for s in sentences[:2]:\n",
        "    print(s)\n",
        "\n",
        "for i in range(len(sentences)):\n",
        "    words = sentences[i].split()\n",
        "    words_new = [w for w in words if w.lower() not in sw]  # Use lowercase to match stopwords\n",
        "    sentences[i] = ' '.join(words_new)\n",
        "training_size = 23000\n",
        "train_sentences = sentences[:training_size]\n",
        "validation_sentences = sentences[training_size:]\n",
        "train_labels = labels[:training_size]\n",
        "validation_labels = labels[training_size:]\n",
        "train_labels=np.array(train_labels)\n",
        "validation_labels=np.array(validation_labels)\n",
        "\n",
        "vocab_size=5000\n",
        "embedding_dim=16\n",
        "text_vectorization = TextVectorization(max_tokens=vocab_size,output_sequence_length=25)\n",
        "text_vectorization.adapt(train_sentences)  # Use adapt method on the TextVectorization instance\n",
        "print(len(text_vectorization.get_vocabulary()))\n",
        "train_sequences=text_vectorization(train_sentences)\n",
        "validation_sequences=text_vectorization(validation_sentences)\n",
        "print(type(train_sequences))\n",
        "print(train_sequences.shape)\n",
        "print(validation_sequences.shape)\n"
      ]
    },
    {
      "cell_type": "code",
      "execution_count": null,
      "metadata": {
        "colab": {
          "base_uri": "https://localhost:8080/"
        },
        "id": "UjCGLl_SWXS-",
        "outputId": "baaf01c2-8064-409a-ed85-87d112223165"
      },
      "outputs": [
        {
          "name": "stdout",
          "output_type": "stream",
          "text": [
            "Model: \"sequential\"\n",
            "_________________________________________________________________\n",
            " Layer (type)                Output Shape              Param #   \n",
            "=================================================================\n",
            " embedding (Embedding)       (None, None, 16)          80000     \n",
            "                                                                 \n",
            " global_average_pooling1d (  (None, 16)                0         \n",
            " GlobalAveragePooling1D)                                         \n",
            "                                                                 \n",
            " dense (Dense)               (None, 1)                 17        \n",
            "                                                                 \n",
            "=================================================================\n",
            "Total params: 80017 (312.57 KB)\n",
            "Trainable params: 80017 (312.57 KB)\n",
            "Non-trainable params: 0 (0.00 Byte)\n",
            "_________________________________________________________________\n"
          ]
        }
      ],
      "source": [
        "from tensorflow.keras.models import Sequential\n",
        "from tensorflow.keras import layers\n",
        "model1=Sequential([\n",
        "    layers.Embedding(vocab_size,embedding_dim),\n",
        "    layers.GlobalAveragePooling1D() ,\n",
        "    layers.Dense(1,activation='sigmoid'),\n",
        "])\n",
        "model1.summary()\n"
      ]
    },
    {
      "cell_type": "code",
      "execution_count": null,
      "metadata": {
        "colab": {
          "base_uri": "https://localhost:8080/"
        },
        "id": "uCjfJOaOME4Q",
        "outputId": "6090afe1-9d60-474d-f0dc-bf3886be05e3"
      },
      "outputs": [
        {
          "name": "stdout",
          "output_type": "stream",
          "text": [
            "Epoch 1/50\n",
            "180/180 [==============================] - 1s 4ms/step - loss: 0.6903 - accuracy: 0.5597 - val_loss: 0.6877 - val_accuracy: 0.5700\n",
            "Epoch 2/50\n",
            "180/180 [==============================] - 1s 3ms/step - loss: 0.6867 - accuracy: 0.5597 - val_loss: 0.6842 - val_accuracy: 0.5700\n",
            "Epoch 3/50\n",
            "180/180 [==============================] - 1s 3ms/step - loss: 0.6838 - accuracy: 0.5597 - val_loss: 0.6813 - val_accuracy: 0.5700\n",
            "Epoch 4/50\n",
            "180/180 [==============================] - 1s 3ms/step - loss: 0.6815 - accuracy: 0.5597 - val_loss: 0.6790 - val_accuracy: 0.5700\n",
            "Epoch 5/50\n",
            "180/180 [==============================] - 1s 3ms/step - loss: 0.6794 - accuracy: 0.5598 - val_loss: 0.6770 - val_accuracy: 0.5700\n",
            "Epoch 6/50\n",
            "180/180 [==============================] - 1s 3ms/step - loss: 0.6775 - accuracy: 0.5598 - val_loss: 0.6751 - val_accuracy: 0.5697\n",
            "Epoch 7/50\n",
            "180/180 [==============================] - 1s 3ms/step - loss: 0.6755 - accuracy: 0.5599 - val_loss: 0.6733 - val_accuracy: 0.5697\n",
            "Epoch 8/50\n",
            "180/180 [==============================] - 1s 3ms/step - loss: 0.6735 - accuracy: 0.5600 - val_loss: 0.6714 - val_accuracy: 0.5694\n",
            "Epoch 9/50\n",
            "180/180 [==============================] - 1s 3ms/step - loss: 0.6713 - accuracy: 0.5603 - val_loss: 0.6694 - val_accuracy: 0.5697\n",
            "Epoch 10/50\n",
            "180/180 [==============================] - 1s 3ms/step - loss: 0.6690 - accuracy: 0.5611 - val_loss: 0.6674 - val_accuracy: 0.5708\n",
            "Epoch 11/50\n",
            "180/180 [==============================] - 1s 3ms/step - loss: 0.6666 - accuracy: 0.5629 - val_loss: 0.6651 - val_accuracy: 0.5724\n",
            "Epoch 12/50\n",
            "180/180 [==============================] - 1s 3ms/step - loss: 0.6640 - accuracy: 0.5642 - val_loss: 0.6628 - val_accuracy: 0.5759\n",
            "Epoch 13/50\n",
            "180/180 [==============================] - 1s 3ms/step - loss: 0.6612 - accuracy: 0.5681 - val_loss: 0.6604 - val_accuracy: 0.5840\n",
            "Epoch 14/50\n",
            "180/180 [==============================] - 1s 3ms/step - loss: 0.6584 - accuracy: 0.5750 - val_loss: 0.6580 - val_accuracy: 0.5945\n",
            "Epoch 15/50\n",
            "180/180 [==============================] - 1s 5ms/step - loss: 0.6554 - accuracy: 0.5834 - val_loss: 0.6554 - val_accuracy: 0.6002\n",
            "Epoch 16/50\n",
            "180/180 [==============================] - 1s 5ms/step - loss: 0.6523 - accuracy: 0.5918 - val_loss: 0.6528 - val_accuracy: 0.6085\n",
            "Epoch 17/50\n",
            "180/180 [==============================] - 1s 4ms/step - loss: 0.6492 - accuracy: 0.6022 - val_loss: 0.6501 - val_accuracy: 0.6185\n",
            "Epoch 18/50\n",
            "180/180 [==============================] - 1s 5ms/step - loss: 0.6459 - accuracy: 0.6143 - val_loss: 0.6473 - val_accuracy: 0.6279\n",
            "Epoch 19/50\n",
            "180/180 [==============================] - 1s 5ms/step - loss: 0.6426 - accuracy: 0.6240 - val_loss: 0.6444 - val_accuracy: 0.6344\n",
            "Epoch 20/50\n",
            "180/180 [==============================] - 1s 5ms/step - loss: 0.6392 - accuracy: 0.6307 - val_loss: 0.6415 - val_accuracy: 0.6414\n",
            "Epoch 21/50\n",
            "180/180 [==============================] - 1s 4ms/step - loss: 0.6358 - accuracy: 0.6380 - val_loss: 0.6387 - val_accuracy: 0.6471\n",
            "Epoch 22/50\n",
            "180/180 [==============================] - 1s 3ms/step - loss: 0.6323 - accuracy: 0.6481 - val_loss: 0.6359 - val_accuracy: 0.6554\n",
            "Epoch 23/50\n",
            "180/180 [==============================] - 1s 3ms/step - loss: 0.6288 - accuracy: 0.6565 - val_loss: 0.6329 - val_accuracy: 0.6651\n",
            "Epoch 24/50\n",
            "180/180 [==============================] - 1s 3ms/step - loss: 0.6253 - accuracy: 0.6669 - val_loss: 0.6300 - val_accuracy: 0.6713\n",
            "Epoch 25/50\n",
            "180/180 [==============================] - 1s 3ms/step - loss: 0.6217 - accuracy: 0.6744 - val_loss: 0.6270 - val_accuracy: 0.6781\n",
            "Epoch 26/50\n",
            "180/180 [==============================] - 1s 3ms/step - loss: 0.6182 - accuracy: 0.6800 - val_loss: 0.6240 - val_accuracy: 0.6816\n",
            "Epoch 27/50\n",
            "180/180 [==============================] - 1s 3ms/step - loss: 0.6146 - accuracy: 0.6868 - val_loss: 0.6210 - val_accuracy: 0.6848\n",
            "Epoch 28/50\n",
            "180/180 [==============================] - 1s 3ms/step - loss: 0.6110 - accuracy: 0.6920 - val_loss: 0.6180 - val_accuracy: 0.6856\n",
            "Epoch 29/50\n",
            "180/180 [==============================] - 1s 3ms/step - loss: 0.6074 - accuracy: 0.6974 - val_loss: 0.6151 - val_accuracy: 0.6870\n",
            "Epoch 30/50\n",
            "180/180 [==============================] - 1s 3ms/step - loss: 0.6038 - accuracy: 0.7023 - val_loss: 0.6122 - val_accuracy: 0.6921\n",
            "Epoch 31/50\n",
            "180/180 [==============================] - 1s 3ms/step - loss: 0.6001 - accuracy: 0.7067 - val_loss: 0.6092 - val_accuracy: 0.6964\n",
            "Epoch 32/50\n",
            "180/180 [==============================] - 1s 3ms/step - loss: 0.5965 - accuracy: 0.7123 - val_loss: 0.6061 - val_accuracy: 0.6967\n",
            "Epoch 33/50\n",
            "180/180 [==============================] - 1s 3ms/step - loss: 0.5929 - accuracy: 0.7138 - val_loss: 0.6032 - val_accuracy: 0.7005\n",
            "Epoch 34/50\n",
            "180/180 [==============================] - 1s 3ms/step - loss: 0.5893 - accuracy: 0.7180 - val_loss: 0.6004 - val_accuracy: 0.7067\n",
            "Epoch 35/50\n",
            "180/180 [==============================] - 1s 3ms/step - loss: 0.5857 - accuracy: 0.7233 - val_loss: 0.5974 - val_accuracy: 0.7083\n",
            "Epoch 36/50\n",
            "180/180 [==============================] - 1s 3ms/step - loss: 0.5822 - accuracy: 0.7270 - val_loss: 0.5945 - val_accuracy: 0.7110\n",
            "Epoch 37/50\n",
            "180/180 [==============================] - 1s 3ms/step - loss: 0.5786 - accuracy: 0.7288 - val_loss: 0.5917 - val_accuracy: 0.7139\n",
            "Epoch 38/50\n",
            "180/180 [==============================] - 1s 3ms/step - loss: 0.5750 - accuracy: 0.7344 - val_loss: 0.5887 - val_accuracy: 0.7150\n",
            "Epoch 39/50\n",
            "180/180 [==============================] - 1s 3ms/step - loss: 0.5715 - accuracy: 0.7374 - val_loss: 0.5859 - val_accuracy: 0.7183\n",
            "Epoch 40/50\n",
            "180/180 [==============================] - 1s 5ms/step - loss: 0.5679 - accuracy: 0.7412 - val_loss: 0.5831 - val_accuracy: 0.7180\n",
            "Epoch 41/50\n",
            "180/180 [==============================] - 1s 5ms/step - loss: 0.5644 - accuracy: 0.7445 - val_loss: 0.5802 - val_accuracy: 0.7201\n",
            "Epoch 42/50\n",
            "180/180 [==============================] - 1s 5ms/step - loss: 0.5609 - accuracy: 0.7487 - val_loss: 0.5773 - val_accuracy: 0.7218\n",
            "Epoch 43/50\n",
            "180/180 [==============================] - 1s 5ms/step - loss: 0.5573 - accuracy: 0.7506 - val_loss: 0.5745 - val_accuracy: 0.7239\n",
            "Epoch 44/50\n",
            "180/180 [==============================] - 1s 5ms/step - loss: 0.5538 - accuracy: 0.7537 - val_loss: 0.5716 - val_accuracy: 0.7261\n",
            "Epoch 45/50\n",
            "180/180 [==============================] - 1s 5ms/step - loss: 0.5504 - accuracy: 0.7544 - val_loss: 0.5689 - val_accuracy: 0.7290\n",
            "Epoch 46/50\n",
            "180/180 [==============================] - 1s 4ms/step - loss: 0.5469 - accuracy: 0.7572 - val_loss: 0.5661 - val_accuracy: 0.7301\n",
            "Epoch 47/50\n",
            "180/180 [==============================] - 1s 3ms/step - loss: 0.5435 - accuracy: 0.7609 - val_loss: 0.5632 - val_accuracy: 0.7331\n",
            "Epoch 48/50\n",
            "180/180 [==============================] - 1s 3ms/step - loss: 0.5400 - accuracy: 0.7634 - val_loss: 0.5606 - val_accuracy: 0.7347\n",
            "Epoch 49/50\n",
            "180/180 [==============================] - 1s 6ms/step - loss: 0.5366 - accuracy: 0.7664 - val_loss: 0.5579 - val_accuracy: 0.7379\n",
            "Epoch 50/50\n",
            "180/180 [==============================] - 1s 4ms/step - loss: 0.5332 - accuracy: 0.7697 - val_loss: 0.5552 - val_accuracy: 0.7379\n"
          ]
        }
      ],
      "source": [
        "from tensorflow.keras.optimizers import Adam\n",
        "from tensorflow.keras.models import Sequential\n",
        "from tensorflow.keras.layers import Embedding, GlobalAveragePooling1D, Dense\n",
        "\n",
        "adam = Adam(learning_rate=0.0001)\n",
        "\n",
        "model1 = Sequential([\n",
        "    Embedding(vocab_size, embedding_dim),\n",
        "    GlobalAveragePooling1D(),\n",
        "    Dense(1, activation='sigmoid'),\n",
        "])\n",
        "\n",
        "model1.compile(loss='binary_crossentropy', optimizer=adam, metrics=['accuracy'])\n",
        "\n",
        "history1 = model1.fit(train_sequences, train_labels,batch_size=128, epochs=50, validation_data=(validation_sequences, validation_labels))"
      ]
    },
    {
      "cell_type": "code",
      "execution_count": null,
      "metadata": {
        "colab": {
          "base_uri": "https://localhost:8080/",
          "height": 881
        },
        "id": "cBPfJ1qvQ7sA",
        "outputId": "8450e4a7-bae6-44e6-a6e6-d33667404599"
      },
      "outputs": [
        {
          "data": {
            "image/png": "[encoded data removed]",
            "text/plain": [
              "<Figure size 640x480 with 1 Axes>"
            ]
          },
          "metadata": {},
          "output_type": "display_data"
        },
        {
          "data": {
            "image/png": "[encoded data removed]",
            "text/plain": [
              "<Figure size 640x480 with 1 Axes>"
            ]
          },
          "metadata": {},
          "output_type": "display_data"
        }
      ],
      "source": [
        "def plot_graphs(history,string):\n",
        "  plt.plot(history.history[string])\n",
        "  plt.plot(history.history['val_'+string])\n",
        "  plt.xlabel(\"Epoch\")\n",
        "  plt.ylabel(string)\n",
        "  plt.legend([string,'val_'+string])\n",
        "  plt.show()\n",
        "plot_graphs(history1,\"accuracy\")\n",
        "plot_graphs(history1,\"loss\")\n"
      ]
    },
    {
      "cell_type": "code",
      "execution_count": null,
      "metadata": {
        "colab": {
          "background_save": true
        },
        "id": "1rWle0aS2tnJ",
        "outputId": "86fe3ef3-10ad-46b1-bb1d-7e082feabd5b"
      },
      "outputs": [
        {
          "ename": "NameError",
          "evalue": "name 'tokenizer' is not defined",
          "output_type": "error",
          "traceback": [
            "\u001b[0;31m---------------------------------------------------------------------------\u001b[0m",
            "\u001b[0;31mNameError\u001b[0m                                 Traceback (most recent call last)",
            "\u001b[0;32m<ipython-input-1-7e2cfe70f2f3>\u001b[0m in \u001b[0;36m<cell line: 2>\u001b[0;34m()\u001b[0m\n\u001b[1;32m      1\u001b[0m \u001b[0msentences\u001b[0m \u001b[0;34m=\u001b[0m \u001b[0;34m[\u001b[0m\u001b[0;34m\"granny starting to fear spiders in the garden might be real\"\u001b[0m\u001b[0;34m,\u001b[0m \u001b[0;34m\"game of thrones season finale showing this sunday night\"\u001b[0m\u001b[0;34m,\u001b[0m \u001b[0;34m\"TensorFlow book will be a best seller\"\u001b[0m\u001b[0;34m]\u001b[0m\u001b[0;34m\u001b[0m\u001b[0;34m\u001b[0m\u001b[0m\n\u001b[0;32m----> 2\u001b[0;31m \u001b[0msequences\u001b[0m \u001b[0;34m=\u001b[0m \u001b[0mtokenizer\u001b[0m\u001b[0;34m.\u001b[0m\u001b[0mtexts_to_sequences\u001b[0m\u001b[0;34m(\u001b[0m\u001b[0msentences\u001b[0m\u001b[0;34m)\u001b[0m\u001b[0;34m\u001b[0m\u001b[0;34m\u001b[0m\u001b[0m\n\u001b[0m\u001b[1;32m      3\u001b[0m \u001b[0mprint\u001b[0m\u001b[0;34m(\u001b[0m\u001b[0msequences\u001b[0m\u001b[0;34m)\u001b[0m\u001b[0;34m\u001b[0m\u001b[0;34m\u001b[0m\u001b[0m\n\u001b[1;32m      4\u001b[0m \u001b[0mpadded\u001b[0m \u001b[0;34m=\u001b[0m \u001b[0mpad_sequences\u001b[0m\u001b[0;34m(\u001b[0m\u001b[0msequences\u001b[0m\u001b[0;34m,\u001b[0m \u001b[0mmaxlen\u001b[0m\u001b[0;34m=\u001b[0m\u001b[0mmax_length\u001b[0m\u001b[0;34m,\u001b[0m \u001b[0mpadding\u001b[0m\u001b[0;34m=\u001b[0m\u001b[0mpadding_type\u001b[0m\u001b[0;34m,\u001b[0m \u001b[0mtruncating\u001b[0m\u001b[0;34m=\u001b[0m\u001b[0mtrunc_type\u001b[0m\u001b[0;34m)\u001b[0m\u001b[0;34m\u001b[0m\u001b[0;34m\u001b[0m\u001b[0m\n\u001b[1;32m      5\u001b[0m \u001b[0mprint\u001b[0m\u001b[0;34m(\u001b[0m\u001b[0mpadded\u001b[0m\u001b[0;34m)\u001b[0m\u001b[0;34m\u001b[0m\u001b[0;34m\u001b[0m\u001b[0m\n",
            "\u001b[0;31mNameError\u001b[0m: name 'tokenizer' is not defined"
          ]
        }
      ],
      "source": [
        "sentences = [\"granny starting to fear spiders in the garden might be real\", \"game of thrones season finale showing this sunday night\", \"TensorFlow book will be a best seller\"]\n",
        "sequences = tokenizer.texts_to_sequences(sentences)\n",
        "print(sequences)\n",
        "padded = pad_sequences(sequences, maxlen=max_length, padding=padding_type, truncating=trunc_type)\n",
        "print(padded)\n",
        "print(model.predict(padded))"
      ]
    }
  ],
  "metadata": {
    "colab": {
      "provenance": [],
      "toc_visible": true,
      "mount_file_id": "1Wkaponk5hJLtBt1karvhum-lpLEVhDeK",
      "authorship_tag": "ABX9TyMISriTKusexq+L/3sTfv5B",
      "include_colab_link": true
    },
    "kernelspec": {
      "display_name": "Python 3",
      "name": "python3"
    },
    "language_info": {
      "name": "python"
    }
  },
  "nbformat": 4,
  "nbformat_minor": 0
}